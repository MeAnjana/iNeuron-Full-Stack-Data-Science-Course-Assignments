{
 "cells": [
  {
   "cell_type": "markdown",
   "id": "595c686c",
   "metadata": {},
   "source": [
    "# Questions"
   ]
  },
  {
   "cell_type": "raw",
   "id": "5b8bf54a",
   "metadata": {},
   "source": [
    " 1. In the below elements which of them are values or an expression? eg:- values can be integer or string and expressions will be mathematical operators.\n",
    "   * \n",
    "   'hello'\n",
    "   -87.8\n",
    "   - \n",
    "   / \n",
    "   +\t\n",
    "   6 \n",
    "\n",
    "2. What is the difference between string and variable?\n",
    "\n",
    "3. Describe three different data types.\n",
    "\n",
    "4. What is an expression made up of? What do all expressions do?\n",
    "\n",
    "5. This assignment statements, like spam = 10. What is the difference between an expression and a statement?\n",
    "\n",
    "6. After running the following code, what does the variable bacon contain?\n",
    "   bacon = 22\n",
    "   bacon + 1\n",
    "\n",
    "7. What should the values of the following two terms be?\n",
    "    'spam' + 'spamspam'\n",
    "    'spam' * 3\n",
    "\n",
    "8. Why is eggs a valid variable name while 100 is invalid?\n",
    "\n",
    "9. What three functions can be used to get the integer, floating-point number, or string version of a value?\n",
    "\n",
    "10. Why does this expression cause an error? How can you fix it?\n",
    "    'I have eaten ' + 99 + ' burritos.'\n",
    "\n",
    "\n"
   ]
  },
  {
   "cell_type": "markdown",
   "id": "2f83ab5c",
   "metadata": {},
   "source": [
    "# Answers"
   ]
  },
  {
   "cell_type": "raw",
   "id": "ee2347ba",
   "metadata": {},
   "source": [
    "1. In the below elements which of them are values or an expression? eg:- values can be integer or string and expressions will be mathematical operators.\n",
    "\n",
    "    *      :expression\n",
    "   'hello' :value\n",
    "   -87.8   :value\n",
    "   -       :expression\n",
    "   /       :expression\n",
    "   +\t   :expression\n",
    "   6       :value"
   ]
  },
  {
   "cell_type": "raw",
   "id": "427176a9",
   "metadata": {},
   "source": [
    "2. What is the difference between string and variable?\n",
    "\n",
    "String - A String is a type of information you would store in a Variable. A String is usually words, enclosed with \"\".\n",
    "\n",
    "Variable - A Variable is a store of information. "
   ]
  },
  {
   "cell_type": "raw",
   "id": "51156a96",
   "metadata": {},
   "source": [
    "3. Describe three different data types.\n",
    "\n",
    "String - A string is a collection of one or more characters put in a single quote, double-quote or triple quote. \n",
    "\n",
    "Tuple - Tuple is an ordered collection of Python objects. The only difference between tuple and list is that tuples are immutable i.e. tuples cannot be modified after it is created.\n",
    "\n",
    "List - List is a ordered collection of data. It is very flexible as the items in a list do not need to be of the same type.\n",
    "       List is represented using square brackets[].\n",
    "       \n",
    "Integers - It contains positive or negative whole numbers (without fraction or decimal). "
   ]
  },
  {
   "cell_type": "raw",
   "id": "3622e025",
   "metadata": {},
   "source": [
    "4. What is an expression made up of? What do all expressions do?\n",
    "\n",
    "An expression is a combination of operators and operands that is interpreted to produce some other value.\n",
    "Expressions will be mathematical operators.\n",
    "\n",
    "Operators:\t\tOperator:\n",
    "\n",
    "+\t             and\n",
    "–\t              or\n",
    "*\t             not\n",
    "/\t\n",
    "//\t\n",
    "%\t\n",
    "**"
   ]
  },
  {
   "cell_type": "raw",
   "id": "13adbf6c",
   "metadata": {},
   "source": [
    "5. This assignment statements, like spam = 10. What is the difference between an expression and a statement?\n",
    "\n",
    "An expression evaluates to a single value. A statement does not.\n",
    " \n",
    "Statements represent an action or command e.g print statements, assignment statements. \n",
    "Expression is a combination of variables, operations and values that yields a result value."
   ]
  },
  {
   "cell_type": "raw",
   "id": "94d3e279",
   "metadata": {},
   "source": [
    "6. After running the following code, what does the variable bacon contain?\n",
    "   bacon = 22\n",
    "   bacon + 1\n"
   ]
  },
  {
   "cell_type": "code",
   "execution_count": 2,
   "id": "2ccb5bbf",
   "metadata": {},
   "outputs": [
    {
     "data": {
      "text/plain": [
       "23"
      ]
     },
     "execution_count": 2,
     "metadata": {},
     "output_type": "execute_result"
    }
   ],
   "source": [
    "bacon = 22\n",
    "bacon + 1"
   ]
  },
  {
   "cell_type": "raw",
   "id": "e7a6f008",
   "metadata": {},
   "source": [
    "7. What should the values of the following two terms be?\n",
    "    'spam' + 'spamspam'\n",
    "    'spam' * 3"
   ]
  },
  {
   "cell_type": "code",
   "execution_count": 3,
   "id": "a2effb59",
   "metadata": {},
   "outputs": [
    {
     "data": {
      "text/plain": [
       "'spamspamspam'"
      ]
     },
     "execution_count": 3,
     "metadata": {},
     "output_type": "execute_result"
    }
   ],
   "source": [
    "'spam' + 'spamspam'\n",
    "'spam' * 3"
   ]
  },
  {
   "cell_type": "raw",
   "id": "03e86205",
   "metadata": {},
   "source": [
    "8. Why is eggs a valid variable name while 100 is invalid?\n",
    "\n",
    "Because variable names cannot start with a number.\n",
    "\n",
    "A variable name must start with a letter or the underscore character.\n",
    "A variable name cannot start with a number. \n",
    "A variable name can only contain alpha-numeric characters and underscores (A-z, 0-9, and _ ).\n",
    "Variable names are case-sensitive (age, Age and AGE are three different variables)."
   ]
  },
  {
   "cell_type": "raw",
   "id": "e3041be7",
   "metadata": {},
   "source": [
    "9. What three functions can be used to get the integer, floating-point number, or string version of a value?\n",
    "\n",
    "The int() , float() , and str( ) functions will evaluate to the integer, floating-point number, and string versions of the value passed to them."
   ]
  },
  {
   "cell_type": "code",
   "execution_count": 6,
   "id": "3d4f42c3",
   "metadata": {},
   "outputs": [
    {
     "data": {
      "text/plain": [
       "10"
      ]
     },
     "execution_count": 6,
     "metadata": {},
     "output_type": "execute_result"
    }
   ],
   "source": [
    "int(10)"
   ]
  },
  {
   "cell_type": "code",
   "execution_count": 7,
   "id": "32b60174",
   "metadata": {},
   "outputs": [
    {
     "data": {
      "text/plain": [
       "10.0"
      ]
     },
     "execution_count": 7,
     "metadata": {},
     "output_type": "execute_result"
    }
   ],
   "source": [
    "float(10)"
   ]
  },
  {
   "cell_type": "code",
   "execution_count": 8,
   "id": "d6894c57",
   "metadata": {},
   "outputs": [
    {
     "data": {
      "text/plain": [
       "'10'"
      ]
     },
     "execution_count": 8,
     "metadata": {},
     "output_type": "execute_result"
    }
   ],
   "source": [
    "str(10)"
   ]
  },
  {
   "cell_type": "raw",
   "id": "35d44a0f",
   "metadata": {},
   "source": [
    "10. Why does this expression cause an error? How can you fix it?\n",
    "    'I have eaten ' + 99 + ' burritos.'\n",
    "\n",
    "This expression causes an error because a str can only concatenate to str (not \"int\") .\n",
    "We can fix it by converting the integer value into a string.(By putting double or single quotes to the integer value)"
   ]
  },
  {
   "cell_type": "code",
   "execution_count": 5,
   "id": "979d7b16",
   "metadata": {},
   "outputs": [
    {
     "data": {
      "text/plain": [
       "'I have eaten 99 burritos.'"
      ]
     },
     "execution_count": 5,
     "metadata": {},
     "output_type": "execute_result"
    }
   ],
   "source": [
    "'I have eaten ' + '99' + ' burritos.'"
   ]
  },
  {
   "cell_type": "code",
   "execution_count": null,
   "id": "70d332d9",
   "metadata": {},
   "outputs": [],
   "source": []
  }
 ],
 "metadata": {
  "kernelspec": {
   "display_name": "Python 3 (ipykernel)",
   "language": "python",
   "name": "python3"
  },
  "language_info": {
   "codemirror_mode": {
    "name": "ipython",
    "version": 3
   },
   "file_extension": ".py",
   "mimetype": "text/x-python",
   "name": "python",
   "nbconvert_exporter": "python",
   "pygments_lexer": "ipython3",
   "version": "3.9.7"
  }
 },
 "nbformat": 4,
 "nbformat_minor": 5
}
